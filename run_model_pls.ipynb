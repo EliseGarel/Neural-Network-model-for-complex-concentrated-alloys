{
 "cells": [
  {
   "cell_type": "code",
   "execution_count": 1,
   "metadata": {},
   "outputs": [],
   "source": [
    "\n",
    "# import tensorflow as tf\n",
    "from tensorflow import keras\n",
    "import numpy as np\n",
    "import matplotlib.pyplot as plt\n",
    "import pandas as pd\n",
    "import os\n",
    "from IPython.display import display, Markdown, clear_output\n",
    "import fidle.pwk as ooo\n",
    "from importlib import reload\n",
    "import modele_fit as mf\n",
    "from pathos.multiprocessing import ProcessingPool as Pool\n",
    "from math import ceil\n",
    "from time import sleep\n",
    "from mpl_toolkits import mplot3d\n",
    "import tensorflow as tf\n",
    "import datetime\n",
    "#ooo.init()\n",
    "\n"
   ]
  },
  {
   "cell_type": "code",
   "execution_count": null,
   "metadata": {},
   "outputs": [],
   "source": []
  },
  {
   "cell_type": "code",
   "execution_count": 42,
   "metadata": {},
   "outputs": [
    {
     "name": "stdout",
     "output_type": "stream",
     "text": [
      "batch en cours:0\n",
      "batch en cours:1\n",
      "batch en cours:2\n",
      "batch en cours:3\n",
      "batch en cours:4\n",
      "batch en cours:5\n",
      "batch en cours:6\n",
      "batch en cours:7\n",
      "batch en cours:8\n",
      "batch en cours:9\n",
      "batch en cours:10\n",
      "batch en cours:11\n",
      "batch en cours:12\n",
      "batch en cours:13\n",
      "batch en cours:14\n",
      "batch en cours:15\n",
      "batch en cours:16\n",
      "batch en cours:17\n",
      "batch en cours:18\n",
      "batch en cours:19\n",
      "batch en cours:20\n",
      "batch en cours:21\n",
      "batch en cours:22\n",
      "batch en cours:23\n",
      "batch en cours:24\n",
      "batch en cours:25\n",
      "batch en cours:26\n",
      "batch en cours:27\n",
      "batch en cours:28\n",
      "batch en cours:29\n",
      "batch en cours:30\n",
      "batch en cours:31\n",
      "batch en cours:32\n",
      "batch en cours:33\n",
      "batch en cours:34\n",
      "batch en cours:35\n",
      "batch en cours:36\n",
      "batch en cours:37\n",
      "batch en cours:38\n",
      "batch en cours:39\n",
      "batch en cours:40\n",
      "batch en cours:41\n",
      "batch en cours:42\n",
      "batch en cours:43\n",
      "batch en cours:44\n",
      "batch en cours:45\n",
      "batch en cours:46\n",
      "batch en cours:47\n",
      "batch en cours:48\n",
      "batch en cours:49\n",
      "batch en cours:50\n",
      "batch en cours:51\n",
      "batch en cours:52\n",
      "batch en cours:53\n",
      "batch en cours:54\n",
      "batch en cours:55\n",
      "batch en cours:56\n",
      "batch en cours:57\n",
      "batch en cours:58\n",
      "batch en cours:59\n",
      "batch en cours:60\n",
      "batch en cours:61\n",
      "batch en cours:62\n",
      "batch en cours:63\n",
      "batch en cours:64\n",
      "batch en cours:65\n",
      "batch en cours:66\n",
      "batch en cours:67\n",
      "batch en cours:68\n",
      "batch en cours:69\n",
      "batch en cours:70\n",
      "batch en cours:71\n",
      "batch en cours:72\n",
      "batch en cours:73\n",
      "batch en cours:74\n",
      "batch en cours:75\n",
      "batch en cours:76\n",
      "batch en cours:77\n",
      "batch en cours:78\n",
      "batch en cours:79\n",
      "batch en cours:80\n",
      "batch en cours:81\n",
      "batch en cours:82\n",
      "batch en cours:83\n",
      "batch en cours:84\n",
      "batch en cours:85\n",
      "batch en cours:86\n",
      "batch en cours:87\n",
      "batch en cours:88\n",
      "batch en cours:89\n",
      "batch en cours:90\n",
      "batch en cours:91\n",
      "batch en cours:92\n",
      "batch en cours:93\n",
      "batch en cours:94\n",
      "batch en cours:95\n",
      "batch en cours:96\n",
      "batch en cours:97\n",
      "batch en cours:98\n",
      "batch en cours:99\n"
     ]
    }
   ],
   "source": [
    "if __name__ == '__main__':\n",
    "    nb_threads = 10 # number of proc that can work in parallel\n",
    "    work_list=[] # argument list of the fonction that is going to run in parallel\n",
    "    for i in range (0,1000): # generate work list\n",
    "        work_list.append(['A:/BASE DE DONNEES/Nanoindentation/Python_extrac/Data_without_outliers_averaged.csv',0.8, (5,), ['Zr_at','Nb_at','Mo_at','Ti_at','Cr_at'], ['E (GPa)','H (GPa)','stdE (GPa)','stdH (GPa)'],2,[20,20],4,['relu','relu'],'rmsprop','mse',['mse','mae'], 500])\n",
    "\n",
    "    nb_batch = ceil(len(work_list)/ nb_threads) # batch: group of nb_thread that are going to be run\n",
    "    #print(nb_batch)\n",
    "    tasks_lists = []\n",
    "    for i in range(nb_batch): # group the work list element per batch\n",
    "        tasks_list = [] # correspond to the arguments of the function thatare ging to be run in parallel in batch i\n",
    "        for args in work_list[nb_threads*i:nb_threads*(i+1)]:\n",
    "            tasks_list.append(args)\n",
    "            #print(tasks_lists)\n",
    "        tasks_lists += [tasks_list]  #list of list \n",
    "    list_loss=[]\n",
    "    list_mae=[]\n",
    "    list_mse=[]\n",
    "    for i in range(nb_batch):\n",
    "        print(\"batch en cours:\" + str(i))\n",
    "        pool = Pool(process=1)\n",
    "        #print(tasks_lists[i])\n",
    "        score=pool.map(mf.regression, tasks_lists[i])\n",
    "        #print(score)\n",
    "        for j in range (nb_threads):\n",
    "            list_loss.append(score[j][0])\n",
    "            list_mae.append(score[j][1])\n",
    "            list_mse.append(score[j][2])\n",
    "           \n",
    "            "
   ]
  },
  {
   "cell_type": "code",
   "execution_count": 43,
   "metadata": {},
   "outputs": [
    {
     "data": {
      "text/plain": [
       "(array([ 15., 113., 243., 269., 200.,  93.,  44.,  16.,   4.,   3.]),\n",
       " array([ 12.984121,  23.434916,  33.885708,  44.336502,  54.787296,\n",
       "         65.23809 ,  75.68888 ,  86.13968 ,  96.59047 , 107.04127 ,\n",
       "        117.49206 ], dtype=float32),\n",
       " <a list of 10 Patch objects>)"
      ]
     },
     "execution_count": 43,
     "metadata": {},
     "output_type": "execute_result"
    },
    {
     "data": {
      "image/png": "[encoded data removed]",
      "text/plain": [
       "<Figure size 432x288 with 1 Axes>"
      ]
     },
     "metadata": {
      "needs_background": "light"
     },
     "output_type": "display_data"
    }
   ],
   "source": [
    "plt.hist(list_mae)"
   ]
  },
  {
   "cell_type": "code",
   "execution_count": null,
   "metadata": {},
   "outputs": [],
   "source": []
  },
  {
   "cell_type": "code",
   "execution_count": 44,
   "metadata": {},
   "outputs": [],
   "source": [
    "moy=np.mean(list_mae)\n",
    "std=np.std(list_mae)"
   ]
  },
  {
   "cell_type": "code",
   "execution_count": 45,
   "metadata": {},
   "outputs": [
    {
     "name": "stdout",
     "output_type": "stream",
     "text": [
      "50.68942\n",
      "15.450853\n"
     ]
    }
   ],
   "source": [
    "print(moy)\n",
    "print(std)"
   ]
  },
  {
   "cell_type": "code",
   "execution_count": 46,
   "metadata": {},
   "outputs": [
    {
     "data": {
      "text/plain": [
       "(array([ 10.,  59., 148., 240., 235., 165.,  90.,  32.,  19.,   2.]),\n",
       " array([2.1738336, 2.4254785, 2.6771235, 2.9287686, 3.1804135, 3.4320583,\n",
       "        3.6837034, 3.9353485, 4.1869936, 4.438638 , 4.6902833],\n",
       "       dtype=float32),\n",
       " <a list of 10 Patch objects>)"
      ]
     },
     "execution_count": 46,
     "metadata": {},
     "output_type": "execute_result"
    },
    {
     "data": {
      "image/png": "[encoded data removed]",
      "text/plain": [
       "<Figure size 432x288 with 1 Axes>"
      ]
     },
     "metadata": {
      "needs_background": "light"
     },
     "output_type": "display_data"
    }
   ],
   "source": [
    "plt.hist(list_mse)"
   ]
  },
  {
   "cell_type": "code",
   "execution_count": 3,
   "metadata": {},
   "outputs": [
    {
     "name": "stdout",
     "output_type": "stream",
     "text": [
      "60\n",
      "60\n",
      "batch en cours:0\n",
      "[[7310.1921985554245, 7310.1924, 42.75556]]\n",
      "batch en cours:1\n"
     ]
    },
    {
     "ename": "KeyboardInterrupt",
     "evalue": "",
     "output_type": "error",
     "traceback": [
      "\u001b[1;31m---------------------------------------------------------------------------\u001b[0m",
      "\u001b[1;31mKeyboardInterrupt\u001b[0m                         Traceback (most recent call last)",
      "\u001b[1;32m<ipython-input-3-40ea7669233d>\u001b[0m in \u001b[0;36m<module>\u001b[1;34m\u001b[0m\n\u001b[0;32m     30\u001b[0m         \u001b[0mpool\u001b[0m \u001b[1;33m=\u001b[0m \u001b[0mPool\u001b[0m\u001b[1;33m(\u001b[0m\u001b[0mprocess\u001b[0m\u001b[1;33m=\u001b[0m\u001b[1;36m1\u001b[0m\u001b[1;33m)\u001b[0m\u001b[1;33m\u001b[0m\u001b[1;33m\u001b[0m\u001b[0m\n\u001b[0;32m     31\u001b[0m         \u001b[1;31m#print(tasks_lists[i])\u001b[0m\u001b[1;33m\u001b[0m\u001b[1;33m\u001b[0m\u001b[1;33m\u001b[0m\u001b[0m\n\u001b[1;32m---> 32\u001b[1;33m         \u001b[0mscore\u001b[0m\u001b[1;33m=\u001b[0m \u001b[0mpool\u001b[0m\u001b[1;33m.\u001b[0m\u001b[0mmap\u001b[0m\u001b[1;33m(\u001b[0m\u001b[0mmf\u001b[0m\u001b[1;33m.\u001b[0m\u001b[0mregression\u001b[0m\u001b[1;33m,\u001b[0m \u001b[0mtasks_lists\u001b[0m\u001b[1;33m[\u001b[0m\u001b[0mi\u001b[0m\u001b[1;33m]\u001b[0m\u001b[1;33m)\u001b[0m\u001b[1;33m\u001b[0m\u001b[1;33m\u001b[0m\u001b[0m\n\u001b[0m\u001b[0;32m     33\u001b[0m         \u001b[0mprint\u001b[0m\u001b[1;33m(\u001b[0m\u001b[0mscore\u001b[0m\u001b[1;33m)\u001b[0m\u001b[1;33m\u001b[0m\u001b[1;33m\u001b[0m\u001b[0m\n\u001b[0;32m     34\u001b[0m         \u001b[1;32mfor\u001b[0m \u001b[0mj\u001b[0m \u001b[1;32min\u001b[0m \u001b[0mrange\u001b[0m \u001b[1;33m(\u001b[0m\u001b[0mnb_threads\u001b[0m\u001b[1;33m)\u001b[0m\u001b[1;33m:\u001b[0m\u001b[1;33m\u001b[0m\u001b[1;33m\u001b[0m\u001b[0m\n",
      "\u001b[1;32m~\\Anaconda3\\envs\\tensorflow_env\\lib\\site-packages\\pathos\\multiprocessing.py\u001b[0m in \u001b[0;36mmap\u001b[1;34m(self, f, *args, **kwds)\u001b[0m\n\u001b[0;32m    135\u001b[0m         \u001b[0mAbstractWorkerPool\u001b[0m\u001b[1;33m.\u001b[0m\u001b[0m_AbstractWorkerPool__map\u001b[0m\u001b[1;33m(\u001b[0m\u001b[0mself\u001b[0m\u001b[1;33m,\u001b[0m \u001b[0mf\u001b[0m\u001b[1;33m,\u001b[0m \u001b[1;33m*\u001b[0m\u001b[0margs\u001b[0m\u001b[1;33m,\u001b[0m \u001b[1;33m**\u001b[0m\u001b[0mkwds\u001b[0m\u001b[1;33m)\u001b[0m\u001b[1;33m\u001b[0m\u001b[1;33m\u001b[0m\u001b[0m\n\u001b[0;32m    136\u001b[0m         \u001b[0m_pool\u001b[0m \u001b[1;33m=\u001b[0m \u001b[0mself\u001b[0m\u001b[1;33m.\u001b[0m\u001b[0m_serve\u001b[0m\u001b[1;33m(\u001b[0m\u001b[1;33m)\u001b[0m\u001b[1;33m\u001b[0m\u001b[1;33m\u001b[0m\u001b[0m\n\u001b[1;32m--> 137\u001b[1;33m         \u001b[1;32mreturn\u001b[0m \u001b[0m_pool\u001b[0m\u001b[1;33m.\u001b[0m\u001b[0mmap\u001b[0m\u001b[1;33m(\u001b[0m\u001b[0mstar\u001b[0m\u001b[1;33m(\u001b[0m\u001b[0mf\u001b[0m\u001b[1;33m)\u001b[0m\u001b[1;33m,\u001b[0m \u001b[0mzip\u001b[0m\u001b[1;33m(\u001b[0m\u001b[1;33m*\u001b[0m\u001b[0margs\u001b[0m\u001b[1;33m)\u001b[0m\u001b[1;33m)\u001b[0m \u001b[1;31m# chunksize\u001b[0m\u001b[1;33m\u001b[0m\u001b[1;33m\u001b[0m\u001b[0m\n\u001b[0m\u001b[0;32m    138\u001b[0m     \u001b[0mmap\u001b[0m\u001b[1;33m.\u001b[0m\u001b[0m__doc__\u001b[0m \u001b[1;33m=\u001b[0m \u001b[0mAbstractWorkerPool\u001b[0m\u001b[1;33m.\u001b[0m\u001b[0mmap\u001b[0m\u001b[1;33m.\u001b[0m\u001b[0m__doc__\u001b[0m\u001b[1;33m\u001b[0m\u001b[1;33m\u001b[0m\u001b[0m\n\u001b[0;32m    139\u001b[0m     \u001b[1;32mdef\u001b[0m \u001b[0mimap\u001b[0m\u001b[1;33m(\u001b[0m\u001b[0mself\u001b[0m\u001b[1;33m,\u001b[0m \u001b[0mf\u001b[0m\u001b[1;33m,\u001b[0m \u001b[1;33m*\u001b[0m\u001b[0margs\u001b[0m\u001b[1;33m,\u001b[0m \u001b[1;33m**\u001b[0m\u001b[0mkwds\u001b[0m\u001b[1;33m)\u001b[0m\u001b[1;33m:\u001b[0m\u001b[1;33m\u001b[0m\u001b[1;33m\u001b[0m\u001b[0m\n",
      "\u001b[1;32m~\\Anaconda3\\envs\\tensorflow_env\\lib\\site-packages\\multiprocess\\pool.py\u001b[0m in \u001b[0;36mmap\u001b[1;34m(self, func, iterable, chunksize)\u001b[0m\n\u001b[0;32m    266\u001b[0m         \u001b[1;32min\u001b[0m \u001b[0ma\u001b[0m \u001b[0mlist\u001b[0m \u001b[0mthat\u001b[0m \u001b[1;32mis\u001b[0m \u001b[0mreturned\u001b[0m\u001b[1;33m.\u001b[0m\u001b[1;33m\u001b[0m\u001b[1;33m\u001b[0m\u001b[0m\n\u001b[0;32m    267\u001b[0m         '''\n\u001b[1;32m--> 268\u001b[1;33m         \u001b[1;32mreturn\u001b[0m \u001b[0mself\u001b[0m\u001b[1;33m.\u001b[0m\u001b[0m_map_async\u001b[0m\u001b[1;33m(\u001b[0m\u001b[0mfunc\u001b[0m\u001b[1;33m,\u001b[0m \u001b[0miterable\u001b[0m\u001b[1;33m,\u001b[0m \u001b[0mmapstar\u001b[0m\u001b[1;33m,\u001b[0m \u001b[0mchunksize\u001b[0m\u001b[1;33m)\u001b[0m\u001b[1;33m.\u001b[0m\u001b[0mget\u001b[0m\u001b[1;33m(\u001b[0m\u001b[1;33m)\u001b[0m\u001b[1;33m\u001b[0m\u001b[1;33m\u001b[0m\u001b[0m\n\u001b[0m\u001b[0;32m    269\u001b[0m \u001b[1;33m\u001b[0m\u001b[0m\n\u001b[0;32m    270\u001b[0m     \u001b[1;32mdef\u001b[0m \u001b[0mstarmap\u001b[0m\u001b[1;33m(\u001b[0m\u001b[0mself\u001b[0m\u001b[1;33m,\u001b[0m \u001b[0mfunc\u001b[0m\u001b[1;33m,\u001b[0m \u001b[0miterable\u001b[0m\u001b[1;33m,\u001b[0m \u001b[0mchunksize\u001b[0m\u001b[1;33m=\u001b[0m\u001b[1;32mNone\u001b[0m\u001b[1;33m)\u001b[0m\u001b[1;33m:\u001b[0m\u001b[1;33m\u001b[0m\u001b[1;33m\u001b[0m\u001b[0m\n",
      "\u001b[1;32m~\\Anaconda3\\envs\\tensorflow_env\\lib\\site-packages\\multiprocess\\pool.py\u001b[0m in \u001b[0;36mget\u001b[1;34m(self, timeout)\u001b[0m\n\u001b[0;32m    649\u001b[0m \u001b[1;33m\u001b[0m\u001b[0m\n\u001b[0;32m    650\u001b[0m     \u001b[1;32mdef\u001b[0m \u001b[0mget\u001b[0m\u001b[1;33m(\u001b[0m\u001b[0mself\u001b[0m\u001b[1;33m,\u001b[0m \u001b[0mtimeout\u001b[0m\u001b[1;33m=\u001b[0m\u001b[1;32mNone\u001b[0m\u001b[1;33m)\u001b[0m\u001b[1;33m:\u001b[0m\u001b[1;33m\u001b[0m\u001b[1;33m\u001b[0m\u001b[0m\n\u001b[1;32m--> 651\u001b[1;33m         \u001b[0mself\u001b[0m\u001b[1;33m.\u001b[0m\u001b[0mwait\u001b[0m\u001b[1;33m(\u001b[0m\u001b[0mtimeout\u001b[0m\u001b[1;33m)\u001b[0m\u001b[1;33m\u001b[0m\u001b[1;33m\u001b[0m\u001b[0m\n\u001b[0m\u001b[0;32m    652\u001b[0m         \u001b[1;32mif\u001b[0m \u001b[1;32mnot\u001b[0m \u001b[0mself\u001b[0m\u001b[1;33m.\u001b[0m\u001b[0mready\u001b[0m\u001b[1;33m(\u001b[0m\u001b[1;33m)\u001b[0m\u001b[1;33m:\u001b[0m\u001b[1;33m\u001b[0m\u001b[1;33m\u001b[0m\u001b[0m\n\u001b[0;32m    653\u001b[0m             \u001b[1;32mraise\u001b[0m \u001b[0mTimeoutError\u001b[0m\u001b[1;33m\u001b[0m\u001b[1;33m\u001b[0m\u001b[0m\n",
      "\u001b[1;32m~\\Anaconda3\\envs\\tensorflow_env\\lib\\site-packages\\multiprocess\\pool.py\u001b[0m in \u001b[0;36mwait\u001b[1;34m(self, timeout)\u001b[0m\n\u001b[0;32m    646\u001b[0m \u001b[1;33m\u001b[0m\u001b[0m\n\u001b[0;32m    647\u001b[0m     \u001b[1;32mdef\u001b[0m \u001b[0mwait\u001b[0m\u001b[1;33m(\u001b[0m\u001b[0mself\u001b[0m\u001b[1;33m,\u001b[0m \u001b[0mtimeout\u001b[0m\u001b[1;33m=\u001b[0m\u001b[1;32mNone\u001b[0m\u001b[1;33m)\u001b[0m\u001b[1;33m:\u001b[0m\u001b[1;33m\u001b[0m\u001b[1;33m\u001b[0m\u001b[0m\n\u001b[1;32m--> 648\u001b[1;33m         \u001b[0mself\u001b[0m\u001b[1;33m.\u001b[0m\u001b[0m_event\u001b[0m\u001b[1;33m.\u001b[0m\u001b[0mwait\u001b[0m\u001b[1;33m(\u001b[0m\u001b[0mtimeout\u001b[0m\u001b[1;33m)\u001b[0m\u001b[1;33m\u001b[0m\u001b[1;33m\u001b[0m\u001b[0m\n\u001b[0m\u001b[0;32m    649\u001b[0m \u001b[1;33m\u001b[0m\u001b[0m\n\u001b[0;32m    650\u001b[0m     \u001b[1;32mdef\u001b[0m \u001b[0mget\u001b[0m\u001b[1;33m(\u001b[0m\u001b[0mself\u001b[0m\u001b[1;33m,\u001b[0m \u001b[0mtimeout\u001b[0m\u001b[1;33m=\u001b[0m\u001b[1;32mNone\u001b[0m\u001b[1;33m)\u001b[0m\u001b[1;33m:\u001b[0m\u001b[1;33m\u001b[0m\u001b[1;33m\u001b[0m\u001b[0m\n",
      "\u001b[1;32m~\\Anaconda3\\envs\\tensorflow_env\\lib\\threading.py\u001b[0m in \u001b[0;36mwait\u001b[1;34m(self, timeout)\u001b[0m\n\u001b[0;32m    550\u001b[0m             \u001b[0msignaled\u001b[0m \u001b[1;33m=\u001b[0m \u001b[0mself\u001b[0m\u001b[1;33m.\u001b[0m\u001b[0m_flag\u001b[0m\u001b[1;33m\u001b[0m\u001b[1;33m\u001b[0m\u001b[0m\n\u001b[0;32m    551\u001b[0m             \u001b[1;32mif\u001b[0m \u001b[1;32mnot\u001b[0m \u001b[0msignaled\u001b[0m\u001b[1;33m:\u001b[0m\u001b[1;33m\u001b[0m\u001b[1;33m\u001b[0m\u001b[0m\n\u001b[1;32m--> 552\u001b[1;33m                 \u001b[0msignaled\u001b[0m \u001b[1;33m=\u001b[0m \u001b[0mself\u001b[0m\u001b[1;33m.\u001b[0m\u001b[0m_cond\u001b[0m\u001b[1;33m.\u001b[0m\u001b[0mwait\u001b[0m\u001b[1;33m(\u001b[0m\u001b[0mtimeout\u001b[0m\u001b[1;33m)\u001b[0m\u001b[1;33m\u001b[0m\u001b[1;33m\u001b[0m\u001b[0m\n\u001b[0m\u001b[0;32m    553\u001b[0m             \u001b[1;32mreturn\u001b[0m \u001b[0msignaled\u001b[0m\u001b[1;33m\u001b[0m\u001b[1;33m\u001b[0m\u001b[0m\n\u001b[0;32m    554\u001b[0m \u001b[1;33m\u001b[0m\u001b[0m\n",
      "\u001b[1;32m~\\Anaconda3\\envs\\tensorflow_env\\lib\\threading.py\u001b[0m in \u001b[0;36mwait\u001b[1;34m(self, timeout)\u001b[0m\n\u001b[0;32m    294\u001b[0m         \u001b[1;32mtry\u001b[0m\u001b[1;33m:\u001b[0m    \u001b[1;31m# restore state no matter what (e.g., KeyboardInterrupt)\u001b[0m\u001b[1;33m\u001b[0m\u001b[1;33m\u001b[0m\u001b[0m\n\u001b[0;32m    295\u001b[0m             \u001b[1;32mif\u001b[0m \u001b[0mtimeout\u001b[0m \u001b[1;32mis\u001b[0m \u001b[1;32mNone\u001b[0m\u001b[1;33m:\u001b[0m\u001b[1;33m\u001b[0m\u001b[1;33m\u001b[0m\u001b[0m\n\u001b[1;32m--> 296\u001b[1;33m                 \u001b[0mwaiter\u001b[0m\u001b[1;33m.\u001b[0m\u001b[0macquire\u001b[0m\u001b[1;33m(\u001b[0m\u001b[1;33m)\u001b[0m\u001b[1;33m\u001b[0m\u001b[1;33m\u001b[0m\u001b[0m\n\u001b[0m\u001b[0;32m    297\u001b[0m                 \u001b[0mgotit\u001b[0m \u001b[1;33m=\u001b[0m \u001b[1;32mTrue\u001b[0m\u001b[1;33m\u001b[0m\u001b[1;33m\u001b[0m\u001b[0m\n\u001b[0;32m    298\u001b[0m             \u001b[1;32melse\u001b[0m\u001b[1;33m:\u001b[0m\u001b[1;33m\u001b[0m\u001b[1;33m\u001b[0m\u001b[0m\n",
      "\u001b[1;31mKeyboardInterrupt\u001b[0m: "
     ]
    }
   ],
   "source": [
    "if __name__ == '__main__':\n",
    "    nb_threads = 1 # number of proc that can work in parallel\n",
    "    work_list=[] # argument list of the fonction that is going to run in parallel\n",
    "         \n",
    "        # generate work list\n",
    "   \n",
    "    for nb_layer in range(1,4):\n",
    "        for nb_neurones in range (1,21):\n",
    "            list_neurones=np.ones(nb_layer)*nb_neurones\n",
    "            list_neurones=[int(x) for x in list_neurones]\n",
    "            list_act=[]\n",
    "            for h in range(nb_layer):\n",
    "                list_act.append('relu')\n",
    "            work_list.append(['A:/BASE DE DONNEES/Nanoindentation/Python_extrac/Data_without_outliers_averaged.csv',0.8, (5,), ['Zr_at','Nb_at','Mo_at','Ti_at','Cr_at'], ['E (GPa)','H (GPa)','stdE (GPa)','stdH (GPa)'],nb_layer,list_neurones,4,list_act,'rmsprop','mse',['mse','mae'], 100])\n",
    "    print(len(work_list))         \n",
    "    nb_batch = ceil(len(work_list)/ nb_threads) # batch: group of nb_thread that are going to be run\n",
    "    print(nb_batch)\n",
    "    tasks_lists = []\n",
    "    for i in range(nb_batch): # group the work list element per batch\n",
    "        tasks_list = [] # correspond to the arguments of the function that are ging to be run in parallel in batch i\n",
    "        for args in work_list[nb_threads*i:nb_threads*(i+1)]:\n",
    "            tasks_list.append(args)\n",
    "            #print(tasks_lists)\n",
    "        tasks_lists += [tasks_list]  #list of list \n",
    "    list_loss=[]\n",
    "    list_mae=[]\n",
    "    list_mse=[]\n",
    "    for i in range(nb_batch):\n",
    "        print(\"batch en cours:\" + str(i))\n",
    "        pool = Pool(process=1)\n",
    "        #print(tasks_lists[i])\n",
    "        score= pool.map(mf.regression, tasks_lists[i])\n",
    "        print(score)\n",
    "        for j in range (nb_threads):\n",
    "            list_loss.append(score[j][0])\n",
    "            list_mae.append(score[j][1])\n",
    "            list_mse.append(score[j][2])"
   ]
  },
  {
   "cell_type": "code",
   "execution_count": 46,
   "metadata": {},
   "outputs": [
    {
     "data": {
      "image/png": "[encoded data removed]",
      "text/plain": [
       "<Figure size 432x288 with 1 Axes>"
      ]
     },
     "metadata": {
      "needs_background": "light"
     },
     "output_type": "display_data"
    },
    {
     "data": {
      "image/png": "[encoded data removed]",
      "text/plain": [
       "<Figure size 432x288 with 1 Axes>"
      ]
     },
     "metadata": {
      "needs_background": "light"
     },
     "output_type": "display_data"
    }
   ],
   "source": [
    "fig = plt.figure()\n",
    "#ax = plt.axes(projection='3d')\n",
    "list_layers=[]\n",
    "list_neurones=[]\n",
    "    \n",
    "plt.plot(range(1,21),list_mse[0:20])\n",
    "plt.plot(range(1,21),list_mse[20:40])\n",
    "plt.plot(range(1,21),list_mse[40:60])\n",
    "plt.show()\n",
    "\n",
    "plt.plot(range(1,21),list_mae[0:20])\n",
    "plt.plot(range(1,21),list_mae[20:40])\n",
    "plt.plot(range(1,21),list_mae[40:60])\n",
    "plt.show()\n"
   ]
  },
  {
   "cell_type": "code",
   "execution_count": 44,
   "metadata": {},
   "outputs": [
    {
     "data": {
      "text/plain": [
       "20"
      ]
     },
     "execution_count": 44,
     "metadata": {},
     "output_type": "execute_result"
    }
   ],
   "source": []
  },
  {
   "cell_type": "code",
   "execution_count": null,
   "metadata": {},
   "outputs": [],
   "source": []
  }
 ],
 "metadata": {
  "kernelspec": {
   "display_name": "Python 3",
   "language": "python",
   "name": "python3"
  },
  "language_info": {
   "codemirror_mode": {
    "name": "ipython",
    "version": 3
   },
   "file_extension": ".py",
   "mimetype": "text/x-python",
   "name": "python",
   "nbconvert_exporter": "python",
   "pygments_lexer": "ipython3",
   "version": "3.7.6"
  }
 },
 "nbformat": 4,
 "nbformat_minor": 4
}
