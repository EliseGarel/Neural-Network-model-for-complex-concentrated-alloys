# Regression Neural Netwok on different databases

# 1) Import libraries

import tensorflow as tf
from tensorflow import keras
import numpy as np
import matplotlib.pyplot as plt
import pandas as pd
import os
from IPython.display import display, Markdown, clear_output
import fidle.pwk as ooo
from importlib import reload
import modele_fit as mf
from pathos.multiprocessing import ProcessingPool as Pool


